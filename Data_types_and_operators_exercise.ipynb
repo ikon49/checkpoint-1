{
 "cells": [
  {
   "cell_type": "markdown",
   "id": "f9195a05",
   "metadata": {},
   "source": [
    "<div align=\"center\" style=\" font-size: 80%; text-align: center; margin: 0 auto\">\n",
    "<img src=\"https://raw.githubusercontent.com/Explore-AI/Pictures/master/Python-Notebook-Banners/Exercise.png\"  style=\"display: block; margin-left: auto; margin-right: auto;\";/>\n",
    "</div>"
   ]
  },
  {
   "cell_type": "markdown",
   "id": "f662d169",
   "metadata": {},
   "source": [
    "# Exercise: Data types and operators \n",
    "© ExploreAI Academy"
   ]
  },
  {
   "cell_type": "markdown",
   "id": "26af890c",
   "metadata": {},
   "source": [
    "In this exercise, we'll get comfortable with using the different data types we've been introduced to as well as using the correct data types and operators to solve problems. \n",
    "\n"
   ]
  },
  {
   "cell_type": "markdown",
   "id": "2d230d14",
   "metadata": {
    "tags": []
   },
   "source": [
    "## Learning objectives\n",
    "\n",
    "In this train, we will practise:\n",
    "- How to declare variables, perform basic arithmetic operations, and print results using Python.\n",
    "- String manipulation, type casting, and solving practical problems. "
   ]
  },
  {
   "cell_type": "markdown",
   "id": "07042ea9",
   "metadata": {},
   "source": [
    "## Outline\n",
    "\n",
    "1. [Exercises](#exercises)\n",
    "    * [Exercise 1](#exercise-1)\n",
    "    * [Exercise 2](#exercise-2)\n",
    "    * [Exercise 3](#exercise-3)\n",
    "    * [Exercise 4](#exercise-4)\n",
    "    * [Comprehensive exercise](#comprehensive-exercise)\n",
    "2. [Solutions](#solutions)\n",
    "    * [Exercise 1](#exercise-1)\n",
    "    * [Exercise 2](#exercise-2)\n",
    "    * [Exercise 3](#exercise-3)\n",
    "    * [Exercise 4](#exercise-4)\n",
    "    * [Comprehensive exercise](#comprehensive-exercise)"
   ]
  },
  {
   "cell_type": "markdown",
   "id": "118ed69b",
   "metadata": {},
   "source": [
    "## Exercises"
   ]
  },
  {
   "cell_type": "markdown",
   "id": "5a0b7683",
   "metadata": {
    "tags": []
   },
   "source": [
    "### Exercise 1\n",
    "\n",
    "Declare two variables, `num1` and `num2`, and assign them values of `15` and `7`, respectively. Calculate and store the result of their sum, difference, product, and division (as floating-point number), in separate variables. Print the newly created variables. "
   ]
  },
  {
   "cell_type": "code",
   "execution_count": 3,
   "id": "3f536661",
   "metadata": {},
   "outputs": [
    {
     "name": "stdout",
     "output_type": "stream",
     "text": [
      "addition 22\n",
      "subtraction 8\n",
      "product 105\n",
      "division 2.142857142857143\n"
     ]
    }
   ],
   "source": [
    "num1 = 15\n",
    "num2 = 7\n",
    "addition = num1 + num2\n",
    "subtraction = num1 - num2\n",
    "product = num1 * num2\n",
    "division = num1/num2\n",
    "\n",
    "print(\"addition\", addition)\n",
    "print(\"subtraction\", subtraction)\n",
    "print(\"product\", product)\n",
    "print(\"division\", division)"
   ]
  },
  {
   "cell_type": "markdown",
   "id": "e4069f9f",
   "metadata": {},
   "source": [
    "### Exercise 2\n",
    "\n",
    "Create two string variables, `first_name` and `last_name`, with your first and last names. Concatenate them to form a full name and assign it to a new variable `full_name`. Print the `full_name` in uppercase.\n"
   ]
  },
  {
   "cell_type": "code",
   "execution_count": 9,
   "id": "46e3af23",
   "metadata": {},
   "outputs": [
    {
     "name": "stdout",
     "output_type": "stream",
     "text": [
      "CHRISTOPHERIKONGIO\n"
     ]
    }
   ],
   "source": [
    "first_name = \"christopher\"\n",
    "last_name = 'ikongio'\n",
    "\n",
    "#Concatete the string variables\n",
    "full_name = first_name + last_name\n",
    "# full name in uppercase\n",
    "full_name = full_name.upper()\n",
    "print (full_name)\n"
   ]
  },
  {
   "cell_type": "code",
   "execution_count": 11,
   "id": "2de6c482-7c25-41fb-9531-6c572f054bd2",
   "metadata": {},
   "outputs": [
    {
     "name": "stdout",
     "output_type": "stream",
     "text": [
      "CHRISTOPHER IKONGIO\n"
     ]
    }
   ],
   "source": [
    "# lets put a space btw the names\n",
    "full_name2 = first_name +\" \"+ last_name\n",
    "# full_name2 in uppercase\n",
    "full_name2 = full_name2.upper()\n",
    "print(full_name2)"
   ]
  },
  {
   "cell_type": "markdown",
   "id": "14f9841e",
   "metadata": {},
   "source": [
    "### Exercise 3\n",
    "\n",
    "You have a variable `num_of_books` storing the number of books you have read this month, but it's currently in the form of a string. Create a new variable `books_read` by casting `num_of_books` to an integer. Then calculate the average number of books read per week, assuming there are four weeks in a month. "
   ]
  },
  {
   "cell_type": "code",
   "execution_count": 13,
   "id": "eca12726",
   "metadata": {},
   "outputs": [
    {
     "name": "stdout",
     "output_type": "stream",
     "text": [
      "3.75\n"
     ]
    }
   ],
   "source": [
    "# Your solution here...\n",
    " \n",
    "num_of_books = \"15\"\n",
    "# create a new variable books_read by casting num_of_books to an integer\n",
    "books_read = int(num_of_books)\n",
    "\n",
    "avg_books_read =books_read/4\n",
    "print(avg_books_read)\n"
   ]
  },
  {
   "cell_type": "code",
   "execution_count": null,
   "id": "48891266-a17f-481a-b515-d3e32706b20b",
   "metadata": {},
   "outputs": [],
   "source": [
    "books_read = int(num_books)"
   ]
  },
  {
   "cell_type": "markdown",
   "id": "d7aaa791",
   "metadata": {},
   "source": [
    "### Exercise 4\n",
    "\n",
    "We have been given the following information about a person:\n",
    "\n",
    "- Name: John Doe\n",
    "- Age: 25\n",
    "- Height: 1.75 metres\n",
    "- Weight: 68.5 kilograms\n",
    "\n",
    "Create variables of appropriate data types to store this information. Then calculate the Body Mass Index (BMI) using the formula:\n",
    "\n",
    "$BMI = \\frac{{\\text{{Weight}}}}{{\\text{{Height}}^2}}$\n",
    "\n",
    "Print the result."
   ]
  },
  {
   "cell_type": "code",
   "execution_count": 4,
   "id": "5fd9d438",
   "metadata": {},
   "outputs": [
    {
     "name": "stdout",
     "output_type": "stream",
     "text": [
      "39.142857142857146\n"
     ]
    }
   ],
   "source": [
    "# Your solution here...\n",
    "height=1.75\n",
    "weight=68.5\n",
    "# calculating the body mass index of john doe\n",
    "#BMI=body mass index\n",
    "BMI=weight / height\n",
    "print(BMI)"
   ]
  },
  {
   "cell_type": "markdown",
   "id": "c6dfb7f1",
   "metadata": {},
   "source": [
    "### Comprehensive exercise\n",
    "\n",
    "You are tasked with creating a program to manage inventory for a store. The program should have the following features:\n",
    "\n",
    "1. Create variables to store the following information:\n",
    "   - Product name (string)\n",
    "   - Initial quantity in stock (integer)\n",
    "   - Price per unit (float)\n",
    "   - Discount percentage (float)\n",
    "\n",
    "2. Perform the following operations:\n",
    "   - Calculate the total value of the initial stock (quantity * price per unit).\n",
    "   - Apply the discount to the total value and calculate the discounted value of stock.\n",
    "   - Update the quantity in stock based on new stock received (assume a shipment of 30 units).\n",
    "\n",
    "3. Display the results:\n",
    "   - Print a summary message that includes the product name, initial quantity, price per unit, discount percentage, total value, discounted value, and the updated quantity in stock."
   ]
  },
  {
   "cell_type": "code",
   "execution_count": 9,
   "id": "ce9462e3",
   "metadata": {},
   "outputs": [
    {
     "name": "stdout",
     "output_type": "stream",
     "text": [
      "product name: widget XYZ\n",
      "initial quantity: 100\n",
      "price per unit: 12.50\n",
      "discount percentage:0.15\n",
      "total value initial stock: 1250.0\n",
      "discounted_value_stock: 187.5\n",
      "updated_quantity: 130\n"
     ]
    }
   ],
   "source": [
    "# Given the variables\n",
    "product_name = \"Widget XYZ\"\n",
    "initial_quantity = 100\n",
    "price_per_unit = 12.50\n",
    "discount_percentage = 0.15\n",
    "new_quantity = 30\n",
    "\n",
    "# Your solution here...\n",
    "total_value_initial_stock = initial_quantity * price_per_unit\n",
    "discounted_value_stock = total_value_initial_stock*discount_percentage\n",
    "updated_quantity = initial_quantity + new_quantity\n",
    "# print summary message that includes all information\n",
    "print(\"product name: widget XYZ\")\n",
    "print(\"initial quantity: 100\")\n",
    "print(\"price per unit: 12.50\")\n",
    "print(\"discount percentage:0.15\")\n",
    "print(\"total value initial stock:\",total_value_initial_stock)\n",
    "print(\"discounted_value_stock:\",discounted_value_stock)\n",
    "print(\"updated_quantity:\",updated_quantity)\n",
    "\n"
   ]
  },
  {
   "cell_type": "code",
   "execution_count": null,
   "id": "1181f286-7e31-42ec-a043-fd9b64f5ad86",
   "metadata": {},
   "outputs": [],
   "source": []
  },
  {
   "cell_type": "markdown",
   "id": "26fd094b-0fee-46f1-a4b8-73766813c42b",
   "metadata": {
    "tags": []
   },
   "source": [
    "#  \n",
    "\n",
    "<div align=\"center\" style=\" font-size: 80%; text-align: center; margin: 0 auto\">\n",
    "<img src=\"https://raw.githubusercontent.com/Explore-AI/Pictures/master/ExploreAI_logos/EAI_Blue_Dark.png\"  style=\"width:200px\";/>\n",
    "</div>"
   ]
  }
 ],
 "metadata": {
  "kernelspec": {
   "display_name": "Python 3 (ipykernel)",
   "language": "python",
   "name": "python3"
  },
  "language_info": {
   "codemirror_mode": {
    "name": "ipython",
    "version": 3
   },
   "file_extension": ".py",
   "mimetype": "text/x-python",
   "name": "python",
   "nbconvert_exporter": "python",
   "pygments_lexer": "ipython3",
   "version": "3.11.7"
  }
 },
 "nbformat": 4,
 "nbformat_minor": 5
}
