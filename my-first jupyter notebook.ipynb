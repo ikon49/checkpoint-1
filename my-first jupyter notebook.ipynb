{
 "cells": [
  {
   "cell_type": "code",
   "execution_count": 3,
   "id": "a5efe6ea-2327-4c7a-a879-452eaeb2c69b",
   "metadata": {},
   "outputs": [
    {
     "name": "stdout",
     "output_type": "stream",
     "text": [
      "1\n",
      "2\n",
      "3\n",
      "4\n",
      "5\n",
      "6\n",
      "7\n",
      "8\n",
      "9\n",
      "10\n"
     ]
    }
   ],
   "source": [
    "i = 1\n",
    "while i <= 10:\n",
    "     print (i)\n",
    "     i = i + 1"
   ]
  },
  {
   "cell_type": "markdown",
   "id": "5cbfc500-3412-484b-9ae5-8a6cd7310fe9",
   "metadata": {},
   "source": [
    "#this is dog\n",
    "## come on u lads\n",
    "**Text**\n",
    "*cars"
   ]
  },
  {
   "cell_type": "code",
   "execution_count": 2,
   "id": "dd08a565-316b-4422-aa3f-7a0102be8420",
   "metadata": {},
   "outputs": [
    {
     "name": "stdout",
     "output_type": "stream",
     "text": [
      "welcome to python world lets start coding\n"
     ]
    }
   ],
   "source": [
    "print(\"welcome to python world lets start coding\")"
   ]
  },
  {
   "cell_type": "code",
   "execution_count": null,
   "id": "54c1a3f7-5383-49f7-aa38-7233cc30bdd6",
   "metadata": {},
   "outputs": [],
   "source": []
  }
 ],
 "metadata": {
  "kernelspec": {
   "display_name": "Python 3 (ipykernel)",
   "language": "python",
   "name": "python3"
  },
  "language_info": {
   "codemirror_mode": {
    "name": "ipython",
    "version": 3
   },
   "file_extension": ".py",
   "mimetype": "text/x-python",
   "name": "python",
   "nbconvert_exporter": "python",
   "pygments_lexer": "ipython3",
   "version": "3.11.7"
  }
 },
 "nbformat": 4,
 "nbformat_minor": 5
}
